{
 "cells": [
  {
   "cell_type": "code",
   "execution_count": 1,
   "metadata": {},
   "outputs": [],
   "source": [
    "# carwala.com newly lanched cars"
   ]
  },
  {
   "cell_type": "code",
   "execution_count": 2,
   "metadata": {},
   "outputs": [],
   "source": [
    "# import required pacakges for web scrapping with beautifulsoap\n",
    "from urllib.request import urlopen as uRequest\n",
    "from urllib.error import HTTPError\n",
    "from urllib.error import URLError\n",
    "import pandas as pd\n",
    "from bs4 import BeautifulSoup as soap"
   ]
  },
  {
   "cell_type": "code",
   "execution_count": 5,
   "metadata": {},
   "outputs": [
    {
     "name": "stdout",
     "output_type": "stream",
     "text": [
      "URL request is successful.\n",
      "<div class=\"blackOut-window\" id=\"globalPopupBlackOut\"></div>\n"
     ]
    }
   ],
   "source": [
    "def requestURL(url):\n",
    "        try:\n",
    "            connectURL = uRequest(url)\n",
    "            readURL = connectURL.read()\n",
    "            connectURL.close()\n",
    "        except HTTPError as e:\n",
    "            print(\"HTTP Error, URL is not responding with exception: \"+ str(e))\n",
    "            return None\n",
    "        except URLError as e:\n",
    "            print(\"URL Error, URL is not currect with exception: \"+ str(e))\n",
    "            return None\n",
    "        else:\n",
    "            print(\"URL request is successful.\")\n",
    "        return readURL\n",
    "    \n",
    "\n",
    "carWalaURL = \"https://www.carwale.com/new-car-launches/\"\n",
    "requestCarWala = requestURL(carWalaURL)\n",
    "soapObjCarWala = soap(requestCarWala, \"html.parser\")\n",
    "print(soapObjCarWala.body.div)"
   ]
  },
  {
   "cell_type": "code",
   "execution_count": 34,
   "metadata": {},
   "outputs": [
    {
     "name": "stdout",
     "output_type": "stream",
     "text": [
      "Name: Volkswagen Tiguan AllSpace\n",
      "price:   ₹ 33.13 Lakhs  onwards \n",
      "price based on: Avg. Ex-Showroom price\n",
      "Lanched on: 06-Mar-2020\n",
      "rating: 2 User Reviews\n",
      "Name: BMW X1\n",
      "price:   ₹ 35.9 Lakhs  onwards \n",
      "price based on: Avg. Ex-Showroom price\n",
      "Lanched on: 05-Mar-2020\n",
      "rating: Be the first one to write a review\n",
      "Name: Mercedes-Benz GLC Coupe\n",
      "price:   ₹ 62.7 Lakhs  onwards \n",
      "price based on: Avg. Ex-Showroom price\n",
      "Lanched on: 03-Mar-2020\n",
      "rating: 1 User Review\n",
      "Name: Toyota Vellfire\n",
      "price:   ₹ 79.5 Lakhs  onwards \n",
      "price based on: Avg. Ex-Showroom price\n",
      "Lanched on: 26-Feb-2020\n",
      "rating: Be the first one to write a review\n",
      "Name: Land Rover Defender\n",
      "price:   ₹ 69.99 Lakhs  onwards \n",
      "price based on: Avg. Ex-Showroom price\n",
      "Lanched on: 26-Feb-2020\n",
      "rating: Be the first one to write a review\n",
      "Name: Maruti Suzuki Vitara Brezza\n",
      "price:   ₹ 7.34 Lakhs  onwards \n",
      "price based on: Avg. Ex-Showroom price\n",
      "Lanched on: 24-Feb-2020\n",
      "rating: 37 User Reviews\n",
      "Name: Maruti Suzuki Ignis\n",
      "price:   ₹ 4.89 Lakhs  onwards \n",
      "price based on: Avg. Ex-Showroom price\n",
      "Lanched on: 18-Feb-2020\n",
      "rating: 6 User Reviews\n",
      "Name: Land Rover Discovery Sport\n",
      "price:   ₹ 57.06 Lakhs  onwards \n",
      "price based on: Avg. Ex-Showroom price\n",
      "Lanched on: 13-Feb-2020\n",
      "rating: Be the first one to write a review\n",
      "Name: Kia Carnival\n",
      "price:   ₹ 24.95 Lakhs  onwards \n",
      "price based on: Avg. Ex-Showroom price\n",
      "Lanched on: 05-Feb-2020\n",
      "rating: 11 User Reviews\n",
      "Name: Mercedes-Benz AMG GT 4-Door Coupe\n",
      "price:   ₹ 2.42 Crores  onwards \n",
      "price based on: Avg. Ex-Showroom price\n",
      "Lanched on: 05-Feb-2020\n",
      "rating: Be the first one to write a review\n"
     ]
    }
   ],
   "source": [
    "detailsDiv = soapObjCarWala.findAll(\"div\",{\"class\":\"grid-7 omega\"})\n",
    "for child in detailsDiv:\n",
    "        print(\"Name: \"+ str(child.find(\"strong\", {\"class\": \"text-unbold\"}).get_text()))\n",
    "        print(\"price: \"+ str(child.find(\"div\",{\"class\": \"font20 margin-top15\"}).get_text()))\n",
    "        print(\"price based on: \"+ str(child.find(\"div\", {\"class\": \"margin-bottom5\"}).text))\n",
    "        print(\"Lanched on: \"+ str(child.find(\"div\", {\"class\": \"margin-bottom15 font14\"}).get_text().split(\":\")[1].strip()))\n",
    "        print(\"rating: \"+ str(child.find(\"div\", {\"class\": \"margin-bottom10\"}).a.get_text().strip()))"
   ]
  },
  {
   "cell_type": "code",
   "execution_count": 45,
   "metadata": {},
   "outputs": [
    {
     "name": "stdout",
     "output_type": "stream",
     "text": [
      "Next\n",
      "/new-car-launches/page/2/\n"
     ]
    }
   ],
   "source": [
    "print(soapObjCarWala.find(\"div\", {\"id\": \"rptContent\"}).find(\"span\", {\"id\": \"divLastNav\"}).span.text)\n",
    "print(soapObjCarWala.find(\"div\", {\"id\": \"rptContent\"}).find(\"span\", {\"id\": \"divLastNav\"}).a['href'])"
   ]
  },
  {
   "cell_type": "code",
   "execution_count": 112,
   "metadata": {},
   "outputs": [
    {
     "name": "stdout",
     "output_type": "stream",
     "text": [
      "URL Request is sucessful and retrived data.\n",
      "soap Object is updated sucessfully.\n",
      "/new-car-launches/page/2/\n",
      "URL Request is sucessful and retrived data.\n",
      "soap Object is updated sucessfully.\n",
      "/new-car-launches/page/3/\n",
      "URL Request is sucessful and retrived data.\n",
      "soap Object is updated sucessfully.\n",
      "/new-car-launches/page/4/\n",
      "URL Request is sucessful and retrived data.\n",
      "soap Object is updated sucessfully.\n",
      "/new-car-launches/page/5/\n",
      "URL Request is sucessful and retrived data.\n",
      "soap Object is updated sucessfully.\n",
      "/new-car-launches/page/6/\n",
      "URL Request is sucessful and retrived data.\n",
      "soap Object is updated sucessfully.\n",
      "Exception outside: 'NoneType' object is not subscriptable\n"
     ]
    },
    {
     "ename": "AttributeError",
     "evalue": "module 'pandas' has no attribute 'to_csv'",
     "output_type": "error",
     "traceback": [
      "\u001b[1;31m---------------------------------------------------------------------------\u001b[0m",
      "\u001b[1;31mAttributeError\u001b[0m                            Traceback (most recent call last)",
      "\u001b[1;32m<ipython-input-112-af2b23d25bb2>\u001b[0m in \u001b[0;36m<module>\u001b[1;34m\u001b[0m\n\u001b[0;32m     78\u001b[0m \u001b[0mcarDataFrame\u001b[0m \u001b[1;33m=\u001b[0m \u001b[0mpd\u001b[0m\u001b[1;33m.\u001b[0m\u001b[0mDataFrame\u001b[0m\u001b[1;33m(\u001b[0m\u001b[1;33m)\u001b[0m\u001b[1;33m\u001b[0m\u001b[1;33m\u001b[0m\u001b[0m\n\u001b[0;32m     79\u001b[0m \u001b[0mcarDataFrame\u001b[0m \u001b[1;33m=\u001b[0m \u001b[0mcarWalaData\u001b[0m\u001b[1;33m(\u001b[0m\u001b[0murl\u001b[0m\u001b[1;33m,\u001b[0m \u001b[0mbaseURL\u001b[0m\u001b[1;33m)\u001b[0m\u001b[1;33m\u001b[0m\u001b[1;33m\u001b[0m\u001b[0m\n\u001b[1;32m---> 80\u001b[1;33m \u001b[0mpd\u001b[0m\u001b[1;33m.\u001b[0m\u001b[0mto_csv\u001b[0m\u001b[1;33m(\u001b[0m\u001b[1;34m\"C:\\\\Users\\\\pvalluru\\\\Desktop\\\\Python_practice\\\\Pandas\\\\dataset\\\\carwala_newly_lanched_cars.csv\"\u001b[0m\u001b[1;33m,\u001b[0m \u001b[0mindex\u001b[0m\u001b[1;33m=\u001b[0m \u001b[1;32mFalse\u001b[0m\u001b[1;33m)\u001b[0m\u001b[1;33m\u001b[0m\u001b[1;33m\u001b[0m\u001b[0m\n\u001b[0m\u001b[0;32m     81\u001b[0m \u001b[0mcarDataFrame\u001b[0m\u001b[1;33m\u001b[0m\u001b[1;33m\u001b[0m\u001b[0m\n",
      "\u001b[1;32m~\\AppData\\Local\\Continuum\\anaconda3\\lib\\site-packages\\pandas\\__init__.py\u001b[0m in \u001b[0;36m__getattr__\u001b[1;34m(name)\u001b[0m\n\u001b[0;32m    212\u001b[0m \u001b[1;33m\u001b[0m\u001b[0m\n\u001b[0;32m    213\u001b[0m             \u001b[1;32mreturn\u001b[0m \u001b[0mPanel\u001b[0m\u001b[1;33m\u001b[0m\u001b[1;33m\u001b[0m\u001b[0m\n\u001b[1;32m--> 214\u001b[1;33m         \u001b[1;32mraise\u001b[0m \u001b[0mAttributeError\u001b[0m\u001b[1;33m(\u001b[0m\u001b[1;34m\"module 'pandas' has no attribute '{}'\"\u001b[0m\u001b[1;33m.\u001b[0m\u001b[0mformat\u001b[0m\u001b[1;33m(\u001b[0m\u001b[0mname\u001b[0m\u001b[1;33m)\u001b[0m\u001b[1;33m)\u001b[0m\u001b[1;33m\u001b[0m\u001b[1;33m\u001b[0m\u001b[0m\n\u001b[0m\u001b[0;32m    215\u001b[0m \u001b[1;33m\u001b[0m\u001b[0m\n\u001b[0;32m    216\u001b[0m \u001b[1;33m\u001b[0m\u001b[0m\n",
      "\u001b[1;31mAttributeError\u001b[0m: module 'pandas' has no attribute 'to_csv'"
     ]
    }
   ],
   "source": [
    "# Now take all the Newly lanched car details and update in Excel\n",
    "def carWalaData(url, baseURL=None):\n",
    "        try:\n",
    "            global listObjectForCarDict\n",
    "            requestURL = uRequest(url)\n",
    "            readURL = requestURL.read()\n",
    "            requestURL.close()\n",
    "        except HTTPError as e:\n",
    "            print(\"Exception while requesting: \"+ str(e))\n",
    "            return None\n",
    "        except URLError as e:\n",
    "            print(\"Exception while requesting: \"+ str(e))\n",
    "            return None\n",
    "        else:\n",
    "            print(\"URL Request is sucessful and retrived data.\")\n",
    "        try:\n",
    "            soapObject = soap(readURL, \"html.parser\")\n",
    "            print(\"soap Object is updated sucessfully.\")\n",
    "            # list of all newly lanched cars from carwala\n",
    "            collectionOfCarData = soapObject.findAll(\"div\",{\"class\":\"grid-7 omega\"})\n",
    "            for eachCollection in collectionOfCarData:\n",
    "                    carsDetails = {}\n",
    "                    try:\n",
    "                        carName =  eachCollection.find(\"strong\", {\"class\": \"text-unbold\"}).get_text()\n",
    "                    except AttributeError as e:\n",
    "                        carName = None\n",
    "                        print(\"Exception carDetails: \"+ str(e))\n",
    "                    carsDetails['carName'] = carName\n",
    "                    try:\n",
    "                        carPrice =  eachCollection.find(\"div\",{\"class\": \"font20 margin-top15\"}).get_text()\n",
    "                    except AttributeError as e:\n",
    "                        carPrice = None\n",
    "                        print(\"Exception carPrice: \"+ str(e))\n",
    "                    carsDetails['carPrice'] = carPrice\n",
    "                    try:\n",
    "                        carPriceBasedOn =  eachCollection.find(\"div\", {\"class\": \"margin-bottom5\"}).text\n",
    "                    except AttributeError as e:\n",
    "                        carPriceBasedOn = None\n",
    "                        print(\"Exception BasedOn: \"+ str(e))\n",
    "                    carsDetails['carPriceBasedOn'] = carPriceBasedOn\n",
    "                    try:\n",
    "                        lanchDate = eachCollection.find(\"div\", {\"class\": \"margin-bottom15 font14\"}).get_text().split(\":\")[1].strip()\n",
    "                    except AttributeError as e:\n",
    "                        lanchDate = None\n",
    "                        print(\"Exception  lanchDate: \"+ str(e))\n",
    "                    carsDetails['lanchDate'] = lanchDate\n",
    "                    try:\n",
    "                        carRating = eachCollection.find(\"div\", {\"class\": \"margin-bottom10\"}).a.get_text().strip()\n",
    "                    except AttributeError as e:\n",
    "                        carRating = None\n",
    "                        print(\"Exception on carRating: \"+ str(e))\n",
    "                    carsDetails['carRating'] = carRating\n",
    "                    listObjectForCarDict.append(carsDetails)\n",
    "            tempFrame = pd.DataFrame(listObjectForCarDict)\n",
    "        except Exception as exc:\n",
    "            print(\"Exception out: \"+ str(exc))\n",
    "        \n",
    "        try:\n",
    "            try:\n",
    "                link = soapObject.find(\"div\", {\"id\": \"rptContent\"}).find(\"span\", {\"id\": \"divLastNav\"}).a['href']\n",
    "            except AttributeError as exc:\n",
    "                link = None\n",
    "                print(\"AttributeError.\")\n",
    "            print(link)    \n",
    "            if link is not None:\n",
    "                nextURL = baseURL+soapObject.find(\"div\", {\"id\": \"rptContent\"}).find(\"span\", {\"id\": \"divLastNav\"}).a['href']\n",
    "                carWalaFrame = carWalaData(nextURL, baseURL)\n",
    "                return carWalaFrame\n",
    "            else:\n",
    "                tempFrame = tempFrame.append(tempFrame)\n",
    "                return tempFrame\n",
    "        except Exception as exc:\n",
    "            print(\"Exception outside: \"+ str(exc))\n",
    "            return tempFrame\n",
    "listObjectForCarDict = []\n",
    "baseURL = \"https://www.carwale.com\"                 \n",
    "url = \"https://www.carwale.com/new-car-launches/\"\n",
    "carDataFrame = pd.DataFrame()\n",
    "carDataFrame = carWalaData(url, baseURL)\n",
    "pd.to_csv(\"C:\\\\Users\\\\pvalluru\\\\Desktop\\\\Python_practice\\\\Pandas\\\\dataset\\\\carwala_newly_lanched_cars.csv\", index= False)\n",
    "carDataFrame"
   ]
  }
 ],
 "metadata": {
  "kernelspec": {
   "display_name": "Python 3",
   "language": "python",
   "name": "python3"
  },
  "language_info": {
   "codemirror_mode": {
    "name": "ipython",
    "version": 3
   },
   "file_extension": ".py",
   "mimetype": "text/x-python",
   "name": "python",
   "nbconvert_exporter": "python",
   "pygments_lexer": "ipython3",
   "version": "3.7.3"
  }
 },
 "nbformat": 4,
 "nbformat_minor": 2
}
